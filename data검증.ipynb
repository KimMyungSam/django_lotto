{
 "cells": [
  {
   "cell_type": "code",
   "execution_count": 1,
   "metadata": {},
   "outputs": [],
   "source": [
    "import django\n",
    "import os\n",
    "\n",
    "INSTALLED_APPS = [\n",
    "    'django.contrib.admin',\n",
    "    'django.contrib.auth',\n",
    "    'django.contrib.contenttypes',\n",
    "    'django.contrib.sessions',\n",
    "    'django.contrib.messages',\n",
    "    'django.contrib.staticfiles',\n",
    "    'lotto',\n",
    "    'plusfriend',\n",
    "]\n",
    "\n",
    "SECRET_KEY = 'askdjango'    # 임의 문자열\n",
    "DATABASES = {\n",
    "    'default': {\n",
    "        'ENGINE': 'django.db.backends.mysql',\n",
    "        'OPTIONS': {\n",
    "            'read_default_file': '/etc/mysql/my.cnf',\n",
    "        },\n",
    "        #'NAME': os.path.join(BASE_DIR, 'db.sqlite3'),\n",
    "    }\n",
    "}\n",
    "\n",
    "ROOT_URLCONF = '__main__'\n",
    "\n",
    "urls = []\n",
    "\n",
    "os.environ['DJANGO_SETTINGS_MODULE'] = '__main__'\n",
    "\n",
    "django.setup()"
   ]
  },
  {
   "cell_type": "code",
   "execution_count": 2,
   "metadata": {},
   "outputs": [],
   "source": [
    "# band별 최근횟수 번호들의 count를 구하고, 제외번호를 뽑음\n",
    "def analysis(df_band, time_index, band=3):\n",
    "    df_band = df_band.sort_values(by='shotDate', ascending=False)  # 날짜를 기준으로 내림차순으로 정렬\n",
    "\n",
    "    #1부터 45까지의 배열을 생성하고 0으로 초기화\n",
    "    lottoarray = [0 for i in range(0,46)]\n",
    "    df_list = df_band[(df_band['band'] == band)]\n",
    "    df_list = df_list.reset_index()\n",
    "    results = df_list.loc[0:time_index,['one','two','three','four','five','six']]\n",
    "\n",
    "    for index, row in results.iterrows():\n",
    "        for i in range(6):\n",
    "            k = row[i]\n",
    "            count = lottoarray[k]\n",
    "            lottoarray[k] = count + 1\n",
    "\n",
    "    return (lottoarray)"
   ]
  },
  {
   "cell_type": "code",
   "execution_count": 3,
   "metadata": {},
   "outputs": [],
   "source": [
    "import pandas as pd\n",
    "from lotto.models import DecidedNumbers\n",
    "\n",
    "origin_nums = list()\n",
    "except_nums = list()\n",
    "band=3\n",
    "time_index = 50  # band=3 최근 50회중 나오지 않는 번호는 제외\n",
    "df_band = pd.DataFrame(list(DecidedNumbers.objects.values('count','one','two','three','four','five','six','shotDate','total', 'band')))\n",
    "nums = analysis(df_band, time_index, band)\n",
    "\n",
    "for j in range(1,46):\n",
    "    if nums[j] != 0:\n",
    "        origin_nums.append(j)\n",
    "    else:\n",
    "        except_nums.append(j)"
   ]
  },
  {
   "cell_type": "code",
   "execution_count": null,
   "metadata": {},
   "outputs": [],
   "source": []
  },
  {
   "cell_type": "code",
   "execution_count": 4,
   "metadata": {},
   "outputs": [
    {
     "name": "stdout",
     "output_type": "stream",
     "text": [
      "nums [0, 6, 9, 9, 7, 7, 7, 10, 7, 7, 9, 13, 6, 8, 10, 12, 13, 5, 10, 4, 3, 6, 4, 8, 11, 2, 6, 8, 6, 8, 5, 7, 4, 9, 5, 5, 6, 6, 6, 5, 7, 4, 3, 5, 3, 5]\n"
     ]
    }
   ],
   "source": [
    "print ('nums',nums)"
   ]
  },
  {
   "cell_type": "code",
   "execution_count": 5,
   "metadata": {},
   "outputs": [
    {
     "name": "stdout",
     "output_type": "stream",
     "text": [
      "except_nums []\n",
      "origin_nums [1, 2, 3, 4, 5, 6, 7, 8, 9, 10, 11, 12, 13, 14, 15, 16, 17, 18, 19, 20, 21, 22, 23, 24, 25, 26, 27, 28, 29, 30, 31, 32, 33, 34, 35, 36, 37, 38, 39, 40, 41, 42, 43, 44, 45]\n"
     ]
    }
   ],
   "source": [
    "print ('except_nums',except_nums)\n",
    "print ('origin_nums', origin_nums)"
   ]
  },
  {
   "cell_type": "code",
   "execution_count": 6,
   "metadata": {},
   "outputs": [
    {
     "name": "stdout",
     "output_type": "stream",
     "text": [
      "df_band      band  count  five  four  one    shotDate  six  three  total  two\n",
      "0       3      1    37    33   10  2002-12-07   40     29    172   23\n",
      "1       5      2    32    25    9  2002-12-14   42     21    142   13\n",
      "2       3      3    27    21   11  2002-12-21   31     19    125   16\n",
      "3       4      4    40    31   14  2002-12-28   42     30    184   27\n",
      "4       4      5    41    40   16  2003-01-04   42     29    192   24\n",
      "5       4      6    40    27   14  2003-01-11   42     26    164   15\n",
      "6       4      7    26    25    2  2003-01-18   40     16    118    9\n",
      "7       4      8    37    34    8  2003-01-25   39     25    162   19\n",
      "8       3      9    36    17    2  2003-02-01   39     16    114    4\n",
      "9       4     10    41    33    9  2003-02-08   44     30    182   25\n",
      "10      3     11    41    37    1  2003-02-15   42     36    164    7\n",
      "11      5     12    39    25    2  2003-02-22   45     21    143   11\n",
      "12      3     13    38    37   22  2003-03-01   42     25    187   23\n",
      "13      3     14    33    31    2  2003-03-08   40     12    124    6\n",
      "14      4     15    31    30    3  2003-03-15   37     16    121    4\n",
      "15      3     16    38    37    6  2003-03-22   40     24    152    7\n",
      "16      3     17    32    17    3  2003-03-29   37      9    102    4\n",
      "17      3     18    32    19    3  2003-04-05   35     13    114   12\n",
      "18      4     19    40    39    6  2003-04-12   43     38    196   30\n",
      "19      3     20    23    20   10  2003-04-19   30     18    115   14\n",
      "20      3     21    31    18    6  2003-04-26   32     17    116   12\n",
      "21      3     22    17     8    4  2003-05-03   39      6     79    5\n",
      "22      4     23    33    18    5  2003-05-10   42     17    128   13\n",
      "23      4     24    36    29    7  2003-05-17   43     27    150    8\n",
      "24      3     25    43    26    2  2003-05-24   44     21    140    4\n",
      "25      3     26    20    18    4  2003-05-31   25      7     79    5\n",
      "26      5     27    37    28    1  2003-06-07   43     26    155   20\n",
      "27      4     28    35    25    9  2003-06-14   37     23    147   18\n",
      "28      3     29    39    34    1  2003-06-21   40     13    132    5\n",
      "29      4     30    36    35    8  2003-06-28   44     20    160   17\n",
      "..    ...    ...   ...   ...  ...         ...  ...    ...    ...  ...\n",
      "756     4    757    33    17    6  2017-06-03   44     11    118    7\n",
      "757     5    758    39    30    5  2017-06-10   43     12    138    9\n",
      "758     3    759    42    40    9  2017-06-17   43     36    203   33\n",
      "759     4    760    42    31   10  2017-06-24   43     27    175   22\n",
      "760     4    761    42    24    4  2017-07-01   45     11    133    7\n",
      "761     4    762    26    21    1  2017-07-08   41     12    104    3\n",
      "762     4    763    34    32    3  2017-07-15   43     16    136    8\n",
      "763     3    764    34    31    7  2017-07-22   36     24    154   22\n",
      "764     3    765    42    12    1  2017-07-29   43      8    109    3\n",
      "765     4    766    39    35    9  2017-08-05   41     34    188   30\n",
      "766     4    767    34    31    5  2017-08-12   42     20    147   15\n",
      "767     4    768    38    30    7  2017-08-19   44     29    175   27\n",
      "768     3    769    41    16    5  2017-08-26   45     11    125    7\n",
      "769     5    770    39    23    1  2017-09-02   43     12    127    9\n",
      "770     3    771    21    18    6  2017-09-09   29     17    101   10\n",
      "771     4    772    21    14    5  2017-09-16   41     11     98    6\n",
      "772     4    773    31    21    8  2017-09-23   35     19    126   12\n",
      "773     4    774    34    28   12  2017-09-30   42     18    149   15\n",
      "774     4    775    38    33   11  2017-10-07   42     29    165   12\n",
      "775     4    776    28    21    8  2017-10-14   40     18    124    9\n",
      "776     4    777    34    21    6  2017-10-21   37     17    127   12\n",
      "777     4    778    37    36    6  2017-10-28   41     35    176   21\n",
      "778     5    779    34    24    6  2017-11-04   41     19    136   12\n",
      "779     3    780    27    21   15  2017-11-11   45     19    144   17\n",
      "780     3    781    24    19   11  2017-11-18   39     18    127   16\n",
      "781     4    782    38    34    6  2017-11-25   45     31    172   18\n",
      "782     3    783    38    17   14  2017-12-02   45     16    145   15\n",
      "783     3    784    31    24    3  2017-12-09   39     23    130   10\n",
      "784     4    785    26    25    4  2017-12-16   33     15    109    6\n",
      "785     2    786    24    20   12  2017-12-23   30     16    117   15\n",
      "\n",
      "[786 rows x 10 columns]\n"
     ]
    }
   ],
   "source": [
    "print ('df_band',df_band)"
   ]
  },
  {
   "cell_type": "code",
   "execution_count": null,
   "metadata": {},
   "outputs": [],
   "source": []
  }
 ],
 "metadata": {
  "kernelspec": {
   "display_name": "Python 3",
   "language": "python",
   "name": "python3"
  },
  "language_info": {
   "codemirror_mode": {
    "name": "ipython",
    "version": 3
   },
   "file_extension": ".py",
   "mimetype": "text/x-python",
   "name": "python",
   "nbconvert_exporter": "python",
   "pygments_lexer": "ipython3",
   "version": "3.5.2"
  }
 },
 "nbformat": 4,
 "nbformat_minor": 2
}

{
 "cells": [
  {
   "cell_type": "code",
   "execution_count": 2,
   "metadata": {},
   "outputs": [
    {
     "name": "stdout",
     "output_type": "stream",
     "text": [
      "<!DOCTYPE HTML PUBLIC \"-//IETF//DTD HTML 2.0//EN\">\r\n",
      "<HTML>\r\n",
      "\t<HEAD>\r\n",
      "\t\t<TITLE>400 Bad Request</TITLE>\r\n",
      "<!--style> <H1 {font-family:Courier,Tahoma,Arial,sans-serif;color:white;background-color:#525D76;font-size:22px;} H2 {font-family:Courier,Tahoma,Arial,sans-serif;color:white;background-color:#525D76;font-size:16px;} H3 {font-family:Courier,Tahoma,Arial,sans-serif;color:white;background-color:#525D76;font-size:14px;} BODY {font-family:Courier,Tahoma,Arial,sans-serif;color:black;background-color:white;} B {font-family:Courier,Tahoma,Arial,sans-serif;color:white;background-color:#525D76;} P {font-family:Courier,Tahoma,Arial,sans-serif;background:white;color:black;font-size:12px;}A {color : black;}A.name {color : black;}HR {color : #525D76;}></style-->\r\n",
      "\t</HEAD>\r\n",
      "\t<BODY>\r\n",
      "\t\t<hr align=\"center\" noShade>\r\n",
      "\t\t<br>\r\n",
      "\t\t<H1>Bad Request</H1>\r\n",
      "\t\t<br>\r\n",
      "\t\t<hr align=\"center\" noShade>\r\n",
      "\t\t<br>\r\n",
      "\t</BODY>\r\n",
      "</HTML>\n"
     ]
    }
   ],
   "source": [
    "import requests\n",
    "\n",
    "def main():\n",
    "    main_url=\"http://nlotto.co.kr/common.do?method=main/\"\n",
    "    response = requests.get(main_url)\n",
    "    print (response.text)\n",
    "\n",
    "main()"
   ]
  },
  {
   "cell_type": "code",
   "execution_count": null,
   "metadata": {},
   "outputs": [],
   "source": []
  }
 ],
 "metadata": {
  "kernelspec": {
   "display_name": "Python 3",
   "language": "python",
   "name": "python3"
  },
  "language_info": {
   "codemirror_mode": {
    "name": "ipython",
    "version": 3
   },
   "file_extension": ".py",
   "mimetype": "text/x-python",
   "name": "python",
   "nbconvert_exporter": "python",
   "pygments_lexer": "ipython3",
   "version": "3.5.2"
  }
 },
 "nbformat": 4,
 "nbformat_minor": 2
}
